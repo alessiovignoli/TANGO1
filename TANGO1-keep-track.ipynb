{
 "cells": [
  {
   "cell_type": "markdown",
   "id": "f45dbde5",
   "metadata": {},
   "source": [
    "# TANGO1 project\n",
    "\n",
    "## achievment so far"
   ]
  },
  {
   "cell_type": "code",
   "execution_count": null,
   "id": "59a28575",
   "metadata": {},
   "outputs": [],
   "source": [
    "./../pipelines/aln_generation_colouring.nf --INPUT frequency_trainig_and_positive_set4.fastaoneline \\\\\n",
    "    --TRIMM 70,30 --PLP_DIR ../all_phobius_results/good_pp_vert_originalModel/plps/  \\\\\n",
    "    --PHOB_STDOUT ../all_phobius_results/good_pp_vert_originalModel/phobius_output_om_frequency_trainig_and_positive_set4.txt \\\\\n",
    "    -resume -profile bovreg -process.cpus 3"
   ]
  },
  {
   "cell_type": "markdown",
   "id": "c5a87e61",
   "metadata": {},
   "source": [
    "just an example to see ifit is possibleto share"
   ]
  },
  {
   "cell_type": "code",
   "execution_count": null,
   "id": "cc733bc6",
   "metadata": {},
   "outputs": [],
   "source": []
  }
 ],
 "metadata": {
  "kernelspec": {
   "display_name": "Python 3 (ipykernel)",
   "language": "python",
   "name": "python3"
  },
  "language_info": {
   "codemirror_mode": {
    "name": "ipython",
    "version": 3
   },
   "file_extension": ".py",
   "mimetype": "text/x-python",
   "name": "python",
   "nbconvert_exporter": "python",
   "pygments_lexer": "ipython3",
   "version": "3.8.2"
  }
 },
 "nbformat": 4,
 "nbformat_minor": 5
}
